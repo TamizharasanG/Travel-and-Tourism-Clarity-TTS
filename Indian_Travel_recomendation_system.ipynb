{
  "nbformat": 4,
  "nbformat_minor": 0,
  "metadata": {
    "colab": {
      "provenance": [],
      "authorship_tag": "ABX9TyMiPld4CXWGePIJfF53Xt9J",
      "include_colab_link": true
    },
    "kernelspec": {
      "name": "python3",
      "display_name": "Python 3"
    },
    "language_info": {
      "name": "python"
    }
  },
  "cells": [
    {
      "cell_type": "markdown",
      "metadata": {
        "id": "view-in-github",
        "colab_type": "text"
      },
      "source": [
        "<a href=\"https://colab.research.google.com/github/TamizharasanG/Travel-and-Tourism-Clarity-TTS/blob/main/Indian_Travel_recomendation_system.ipynb\" target=\"_parent\"><img src=\"https://colab.research.google.com/assets/colab-badge.svg\" alt=\"Open In Colab\"/></a>"
      ]
    },
    {
      "cell_type": "markdown",
      "source": [
        "# **Recomendation System building**"
      ],
      "metadata": {
        "id": "GzLfXr4I8GS_"
      }
    },
    {
      "cell_type": "code",
      "execution_count": null,
      "metadata": {
        "id": "lzZ83uNFmu8K"
      },
      "outputs": [],
      "source": [
        "import pandas as pd\n",
        "import numpy as np\n",
        "import matplotlib.pyplot as plt\n",
        "import seaborn as sns\n",
        "import difflib\n",
        "\n",
        "\n",
        "from sklearn.feature_extraction.text import TfidfVectorizer\n",
        "from sklearn.metrics.pairwise import cosine_similarity"
      ]
    },
    {
      "cell_type": "code",
      "source": [
        "data = pd.read_csv(\"https://github.com/TamizharasanG/Travel-and-Tourism-Clarity-TTS/blob/main/Indian_Tourism_custamized.csv?raw=true\")"
      ],
      "metadata": {
        "id": "eqs2m3ijnExd"
      },
      "execution_count": null,
      "outputs": []
    },
    {
      "cell_type": "code",
      "source": [
        "data.head()"
      ],
      "metadata": {
        "colab": {
          "base_uri": "https://localhost:8080/",
          "height": 206
        },
        "id": "jl4vxFDcn5NO",
        "outputId": "82ee880e-b177-4b11-913a-5f9dd10a0906"
      },
      "execution_count": null,
      "outputs": [
        {
          "output_type": "execute_result",
          "data": {
            "text/plain": [
              "   Unnamed: 0               City                      Place  Rating  \\\n",
              "0           0  Aamby Valley City            19 Degree North     4.6   \n",
              "1           1           Abhaneri    Chand Baori (Step well)     4.2   \n",
              "2           2           Abhaneri        Harshat Mata Temple     3.9   \n",
              "3           3       Acharapakkam               Achirupakkam     2.0   \n",
              "4           4       Acharapakkam  Mazhai Malai Madha Shrine     5.0   \n",
              "\n",
              "                                         Short crisp        State  \\\n",
              "0  place ATV time Aamby Valley experience adventu...          NaN   \n",
              "1  Jaipur step well place one Agra visit well ste...    Rajasthan   \n",
              "2  temple Chand Baori visit Abhaneri step well Ha...    Rajasthan   \n",
              "3  Lord Ganesha starting ritual Hindus common bel...   Tamil Nadu   \n",
              "4  shrine one hill situated Tamil Nadu history pl...   Tamil Nadu   \n",
              "\n",
              "   City Latitude  City Longitude  \n",
              "0            NaN             NaN  \n",
              "1      27.007289       76.607926  \n",
              "2      27.007289       76.607926  \n",
              "3      12.407140       79.821645  \n",
              "4      12.407140       79.821645  "
            ],
            "text/html": [
              "\n",
              "  <div id=\"df-278e4462-71ba-4406-ac12-625746b594b6\">\n",
              "    <div class=\"colab-df-container\">\n",
              "      <div>\n",
              "<style scoped>\n",
              "    .dataframe tbody tr th:only-of-type {\n",
              "        vertical-align: middle;\n",
              "    }\n",
              "\n",
              "    .dataframe tbody tr th {\n",
              "        vertical-align: top;\n",
              "    }\n",
              "\n",
              "    .dataframe thead th {\n",
              "        text-align: right;\n",
              "    }\n",
              "</style>\n",
              "<table border=\"1\" class=\"dataframe\">\n",
              "  <thead>\n",
              "    <tr style=\"text-align: right;\">\n",
              "      <th></th>\n",
              "      <th>Unnamed: 0</th>\n",
              "      <th>City</th>\n",
              "      <th>Place</th>\n",
              "      <th>Rating</th>\n",
              "      <th>Short crisp</th>\n",
              "      <th>State</th>\n",
              "      <th>City Latitude</th>\n",
              "      <th>City Longitude</th>\n",
              "    </tr>\n",
              "  </thead>\n",
              "  <tbody>\n",
              "    <tr>\n",
              "      <th>0</th>\n",
              "      <td>0</td>\n",
              "      <td>Aamby Valley City</td>\n",
              "      <td>19 Degree North</td>\n",
              "      <td>4.6</td>\n",
              "      <td>place ATV time Aamby Valley experience adventu...</td>\n",
              "      <td>NaN</td>\n",
              "      <td>NaN</td>\n",
              "      <td>NaN</td>\n",
              "    </tr>\n",
              "    <tr>\n",
              "      <th>1</th>\n",
              "      <td>1</td>\n",
              "      <td>Abhaneri</td>\n",
              "      <td>Chand Baori (Step well)</td>\n",
              "      <td>4.2</td>\n",
              "      <td>Jaipur step well place one Agra visit well ste...</td>\n",
              "      <td>Rajasthan</td>\n",
              "      <td>27.007289</td>\n",
              "      <td>76.607926</td>\n",
              "    </tr>\n",
              "    <tr>\n",
              "      <th>2</th>\n",
              "      <td>2</td>\n",
              "      <td>Abhaneri</td>\n",
              "      <td>Harshat Mata Temple</td>\n",
              "      <td>3.9</td>\n",
              "      <td>temple Chand Baori visit Abhaneri step well Ha...</td>\n",
              "      <td>Rajasthan</td>\n",
              "      <td>27.007289</td>\n",
              "      <td>76.607926</td>\n",
              "    </tr>\n",
              "    <tr>\n",
              "      <th>3</th>\n",
              "      <td>3</td>\n",
              "      <td>Acharapakkam</td>\n",
              "      <td>Achirupakkam</td>\n",
              "      <td>2.0</td>\n",
              "      <td>Lord Ganesha starting ritual Hindus common bel...</td>\n",
              "      <td>Tamil Nadu</td>\n",
              "      <td>12.407140</td>\n",
              "      <td>79.821645</td>\n",
              "    </tr>\n",
              "    <tr>\n",
              "      <th>4</th>\n",
              "      <td>4</td>\n",
              "      <td>Acharapakkam</td>\n",
              "      <td>Mazhai Malai Madha Shrine</td>\n",
              "      <td>5.0</td>\n",
              "      <td>shrine one hill situated Tamil Nadu history pl...</td>\n",
              "      <td>Tamil Nadu</td>\n",
              "      <td>12.407140</td>\n",
              "      <td>79.821645</td>\n",
              "    </tr>\n",
              "  </tbody>\n",
              "</table>\n",
              "</div>\n",
              "      <button class=\"colab-df-convert\" onclick=\"convertToInteractive('df-278e4462-71ba-4406-ac12-625746b594b6')\"\n",
              "              title=\"Convert this dataframe to an interactive table.\"\n",
              "              style=\"display:none;\">\n",
              "        \n",
              "  <svg xmlns=\"http://www.w3.org/2000/svg\" height=\"24px\"viewBox=\"0 0 24 24\"\n",
              "       width=\"24px\">\n",
              "    <path d=\"M0 0h24v24H0V0z\" fill=\"none\"/>\n",
              "    <path d=\"M18.56 5.44l.94 2.06.94-2.06 2.06-.94-2.06-.94-.94-2.06-.94 2.06-2.06.94zm-11 1L8.5 8.5l.94-2.06 2.06-.94-2.06-.94L8.5 2.5l-.94 2.06-2.06.94zm10 10l.94 2.06.94-2.06 2.06-.94-2.06-.94-.94-2.06-.94 2.06-2.06.94z\"/><path d=\"M17.41 7.96l-1.37-1.37c-.4-.4-.92-.59-1.43-.59-.52 0-1.04.2-1.43.59L10.3 9.45l-7.72 7.72c-.78.78-.78 2.05 0 2.83L4 21.41c.39.39.9.59 1.41.59.51 0 1.02-.2 1.41-.59l7.78-7.78 2.81-2.81c.8-.78.8-2.07 0-2.86zM5.41 20L4 18.59l7.72-7.72 1.47 1.35L5.41 20z\"/>\n",
              "  </svg>\n",
              "      </button>\n",
              "      \n",
              "  <style>\n",
              "    .colab-df-container {\n",
              "      display:flex;\n",
              "      flex-wrap:wrap;\n",
              "      gap: 12px;\n",
              "    }\n",
              "\n",
              "    .colab-df-convert {\n",
              "      background-color: #E8F0FE;\n",
              "      border: none;\n",
              "      border-radius: 50%;\n",
              "      cursor: pointer;\n",
              "      display: none;\n",
              "      fill: #1967D2;\n",
              "      height: 32px;\n",
              "      padding: 0 0 0 0;\n",
              "      width: 32px;\n",
              "    }\n",
              "\n",
              "    .colab-df-convert:hover {\n",
              "      background-color: #E2EBFA;\n",
              "      box-shadow: 0px 1px 2px rgba(60, 64, 67, 0.3), 0px 1px 3px 1px rgba(60, 64, 67, 0.15);\n",
              "      fill: #174EA6;\n",
              "    }\n",
              "\n",
              "    [theme=dark] .colab-df-convert {\n",
              "      background-color: #3B4455;\n",
              "      fill: #D2E3FC;\n",
              "    }\n",
              "\n",
              "    [theme=dark] .colab-df-convert:hover {\n",
              "      background-color: #434B5C;\n",
              "      box-shadow: 0px 1px 3px 1px rgba(0, 0, 0, 0.15);\n",
              "      filter: drop-shadow(0px 1px 2px rgba(0, 0, 0, 0.3));\n",
              "      fill: #FFFFFF;\n",
              "    }\n",
              "  </style>\n",
              "\n",
              "      <script>\n",
              "        const buttonEl =\n",
              "          document.querySelector('#df-278e4462-71ba-4406-ac12-625746b594b6 button.colab-df-convert');\n",
              "        buttonEl.style.display =\n",
              "          google.colab.kernel.accessAllowed ? 'block' : 'none';\n",
              "\n",
              "        async function convertToInteractive(key) {\n",
              "          const element = document.querySelector('#df-278e4462-71ba-4406-ac12-625746b594b6');\n",
              "          const dataTable =\n",
              "            await google.colab.kernel.invokeFunction('convertToInteractive',\n",
              "                                                     [key], {});\n",
              "          if (!dataTable) return;\n",
              "\n",
              "          const docLinkHtml = 'Like what you see? Visit the ' +\n",
              "            '<a target=\"_blank\" href=https://colab.research.google.com/notebooks/data_table.ipynb>data table notebook</a>'\n",
              "            + ' to learn more about interactive tables.';\n",
              "          element.innerHTML = '';\n",
              "          dataTable['output_type'] = 'display_data';\n",
              "          await google.colab.output.renderOutput(dataTable, element);\n",
              "          const docLink = document.createElement('div');\n",
              "          docLink.innerHTML = docLinkHtml;\n",
              "          element.appendChild(docLink);\n",
              "        }\n",
              "      </script>\n",
              "    </div>\n",
              "  </div>\n",
              "  "
            ]
          },
          "metadata": {},
          "execution_count": 3
        }
      ]
    },
    {
      "cell_type": "code",
      "source": [
        "data[\"State\"].unique()"
      ],
      "metadata": {
        "colab": {
          "base_uri": "https://localhost:8080/"
        },
        "id": "ZUyZmsnioBvi",
        "outputId": "b892fbb1-9e6a-434e-ae94-8d7c9296a88c"
      },
      "execution_count": null,
      "outputs": [
        {
          "output_type": "execute_result",
          "data": {
            "text/plain": [
              "array([nan, ' Rajasthan', ' Tamil Nadu', ' Kerala', ' Telangana',\n",
              "       ' Gujarat', ' Andhra Pradesh', ' Tripura', ' Lakshadweep', ' Goa',\n",
              "       ' Uttar Pradesh', ' Karnataka', ' Maharashtra', ' Uttarakhand',\n",
              "       ' Mizoram', ' Ladakh', ' West Bengal', ' Madhya Pradesh',\n",
              "       ' Arunachal Pradesh', ' Haryana', ' Chhattisgarh', ' Punjab',\n",
              "       ' Jammu and Kashmir', ' Himachal Pradesh', ' Odisha', ' Sikkim',\n",
              "       ' Puducherry', ' Bihar', ' Jharkhand',\n",
              "       ' Andaman and Nicobar Islands', ' Assam', ' Meghalaya', ' Manipur',\n",
              "       'Chandigarh', ' Dadra and Nagar Haveli and Daman and Diu',\n",
              "       ' Delhi', ' Nagaland', 'Gulf of Kutch', 'Maharashtra', 'Narmada',\n",
              "       'Puducherry', 'Tamil Nadu'], dtype=object)"
            ]
          },
          "metadata": {},
          "execution_count": 4
        }
      ]
    },
    {
      "cell_type": "code",
      "source": [
        "data.shape"
      ],
      "metadata": {
        "colab": {
          "base_uri": "https://localhost:8080/"
        },
        "id": "nAWt7XzKGJCX",
        "outputId": "70d434ac-51ad-4992-bf97-d9364e3e68b4"
      },
      "execution_count": null,
      "outputs": [
        {
          "output_type": "execute_result",
          "data": {
            "text/plain": [
              "(15239, 8)"
            ]
          },
          "metadata": {},
          "execution_count": 5
        }
      ]
    },
    {
      "cell_type": "code",
      "source": [
        "data.isnull().sum()"
      ],
      "metadata": {
        "colab": {
          "base_uri": "https://localhost:8080/"
        },
        "id": "S4peTMgMomoX",
        "outputId": "c6016d0e-1137-4d9c-c5a0-9b64d0f3b712"
      },
      "execution_count": null,
      "outputs": [
        {
          "output_type": "execute_result",
          "data": {
            "text/plain": [
              "Unnamed: 0          0\n",
              "City                0\n",
              "Place               0\n",
              "Rating              0\n",
              "Short crisp         0\n",
              "State             160\n",
              "City Latitude     160\n",
              "City Longitude    160\n",
              "dtype: int64"
            ]
          },
          "metadata": {},
          "execution_count": 6
        }
      ]
    },
    {
      "cell_type": "code",
      "source": [
        "data.dropna(axis = 0, inplace = True)\n",
        "data.drop([\"Unnamed: 0\"], axis = 1, inplace = True)\n",
        "data = data.reset_index(drop=True)\n",
        "\n",
        "#Since some names are with spaces in front of them strip is used\n",
        "data[\"State\"] = data[\"State\"].apply(lambda x : x.strip())\n",
        "data[\"Place\"] = data[\"Place\"].apply(lambda x : x.strip())"
      ],
      "metadata": {
        "id": "G-KgUN_lGM-J"
      },
      "execution_count": null,
      "outputs": []
    },
    {
      "cell_type": "code",
      "source": [
        "data.info()"
      ],
      "metadata": {
        "colab": {
          "base_uri": "https://localhost:8080/"
        },
        "id": "Mu3PL295WSTd",
        "outputId": "2f00dc2d-1aa1-414c-e611-054a7f6e5be2"
      },
      "execution_count": null,
      "outputs": [
        {
          "output_type": "stream",
          "name": "stdout",
          "text": [
            "<class 'pandas.core.frame.DataFrame'>\n",
            "RangeIndex: 15079 entries, 0 to 15078\n",
            "Data columns (total 7 columns):\n",
            " #   Column          Non-Null Count  Dtype  \n",
            "---  ------          --------------  -----  \n",
            " 0   City            15079 non-null  object \n",
            " 1   Place           15079 non-null  object \n",
            " 2   Rating          15079 non-null  float64\n",
            " 3   Short crisp     15079 non-null  object \n",
            " 4   State           15079 non-null  object \n",
            " 5   City Latitude   15079 non-null  float64\n",
            " 6   City Longitude  15079 non-null  float64\n",
            "dtypes: float64(3), object(4)\n",
            "memory usage: 824.8+ KB\n"
          ]
        }
      ]
    },
    {
      "cell_type": "code",
      "source": [
        "data[\"State\"].unique()"
      ],
      "metadata": {
        "colab": {
          "base_uri": "https://localhost:8080/"
        },
        "id": "OlMhijK6T_jz",
        "outputId": "8664212a-3509-4218-818a-1984a9273e5c"
      },
      "execution_count": null,
      "outputs": [
        {
          "output_type": "execute_result",
          "data": {
            "text/plain": [
              "array(['Rajasthan', 'Tamil Nadu', 'Kerala', 'Telangana', 'Gujarat',\n",
              "       'Andhra Pradesh', 'Tripura', 'Lakshadweep', 'Goa', 'Uttar Pradesh',\n",
              "       'Karnataka', 'Maharashtra', 'Uttarakhand', 'Mizoram', 'Ladakh',\n",
              "       'West Bengal', 'Madhya Pradesh', 'Arunachal Pradesh', 'Haryana',\n",
              "       'Chhattisgarh', 'Punjab', 'Jammu and Kashmir', 'Himachal Pradesh',\n",
              "       'Odisha', 'Sikkim', 'Puducherry', 'Bihar', 'Jharkhand',\n",
              "       'Andaman and Nicobar Islands', 'Assam', 'Meghalaya', 'Manipur',\n",
              "       'Chandigarh', 'Dadra and Nagar Haveli and Daman and Diu', 'Delhi',\n",
              "       'Nagaland', 'Gulf of Kutch', 'Narmada'], dtype=object)"
            ]
          },
          "metadata": {},
          "execution_count": 8
        }
      ]
    },
    {
      "cell_type": "code",
      "source": [
        "data.head()"
      ],
      "metadata": {
        "colab": {
          "base_uri": "https://localhost:8080/",
          "height": 206
        },
        "id": "SAauGBQ2-VBo",
        "outputId": "c2ec7ea9-13be-44a7-c789-5fbcb8f40e17"
      },
      "execution_count": null,
      "outputs": [
        {
          "output_type": "execute_result",
          "data": {
            "text/plain": [
              "           City                      Place  Rating  \\\n",
              "0      Abhaneri    Chand Baori (Step well)     4.2   \n",
              "1      Abhaneri        Harshat Mata Temple     3.9   \n",
              "2  Acharapakkam               Achirupakkam     2.0   \n",
              "3  Acharapakkam  Mazhai Malai Madha Shrine     5.0   \n",
              "4    Achooranam         Wayanad Tea Museum     4.1   \n",
              "\n",
              "                                         Short crisp       State  \\\n",
              "0  Jaipur step well place one Agra visit well ste...   Rajasthan   \n",
              "1  temple Chand Baori visit Abhaneri step well Ha...   Rajasthan   \n",
              "2  Lord Ganesha starting ritual Hindus common bel...  Tamil Nadu   \n",
              "3  shrine one hill situated Tamil Nadu history pl...  Tamil Nadu   \n",
              "4  tea place museum tea museum visit history good...      Kerala   \n",
              "\n",
              "   City Latitude  City Longitude  \n",
              "0      27.007289       76.607926  \n",
              "1      27.007289       76.607926  \n",
              "2      12.407140       79.821645  \n",
              "3      12.407140       79.821645  \n",
              "4      11.587189       76.019110  "
            ],
            "text/html": [
              "\n",
              "  <div id=\"df-43182269-9782-4b29-ad99-d73574ac54c3\">\n",
              "    <div class=\"colab-df-container\">\n",
              "      <div>\n",
              "<style scoped>\n",
              "    .dataframe tbody tr th:only-of-type {\n",
              "        vertical-align: middle;\n",
              "    }\n",
              "\n",
              "    .dataframe tbody tr th {\n",
              "        vertical-align: top;\n",
              "    }\n",
              "\n",
              "    .dataframe thead th {\n",
              "        text-align: right;\n",
              "    }\n",
              "</style>\n",
              "<table border=\"1\" class=\"dataframe\">\n",
              "  <thead>\n",
              "    <tr style=\"text-align: right;\">\n",
              "      <th></th>\n",
              "      <th>City</th>\n",
              "      <th>Place</th>\n",
              "      <th>Rating</th>\n",
              "      <th>Short crisp</th>\n",
              "      <th>State</th>\n",
              "      <th>City Latitude</th>\n",
              "      <th>City Longitude</th>\n",
              "    </tr>\n",
              "  </thead>\n",
              "  <tbody>\n",
              "    <tr>\n",
              "      <th>0</th>\n",
              "      <td>Abhaneri</td>\n",
              "      <td>Chand Baori (Step well)</td>\n",
              "      <td>4.2</td>\n",
              "      <td>Jaipur step well place one Agra visit well ste...</td>\n",
              "      <td>Rajasthan</td>\n",
              "      <td>27.007289</td>\n",
              "      <td>76.607926</td>\n",
              "    </tr>\n",
              "    <tr>\n",
              "      <th>1</th>\n",
              "      <td>Abhaneri</td>\n",
              "      <td>Harshat Mata Temple</td>\n",
              "      <td>3.9</td>\n",
              "      <td>temple Chand Baori visit Abhaneri step well Ha...</td>\n",
              "      <td>Rajasthan</td>\n",
              "      <td>27.007289</td>\n",
              "      <td>76.607926</td>\n",
              "    </tr>\n",
              "    <tr>\n",
              "      <th>2</th>\n",
              "      <td>Acharapakkam</td>\n",
              "      <td>Achirupakkam</td>\n",
              "      <td>2.0</td>\n",
              "      <td>Lord Ganesha starting ritual Hindus common bel...</td>\n",
              "      <td>Tamil Nadu</td>\n",
              "      <td>12.407140</td>\n",
              "      <td>79.821645</td>\n",
              "    </tr>\n",
              "    <tr>\n",
              "      <th>3</th>\n",
              "      <td>Acharapakkam</td>\n",
              "      <td>Mazhai Malai Madha Shrine</td>\n",
              "      <td>5.0</td>\n",
              "      <td>shrine one hill situated Tamil Nadu history pl...</td>\n",
              "      <td>Tamil Nadu</td>\n",
              "      <td>12.407140</td>\n",
              "      <td>79.821645</td>\n",
              "    </tr>\n",
              "    <tr>\n",
              "      <th>4</th>\n",
              "      <td>Achooranam</td>\n",
              "      <td>Wayanad Tea Museum</td>\n",
              "      <td>4.1</td>\n",
              "      <td>tea place museum tea museum visit history good...</td>\n",
              "      <td>Kerala</td>\n",
              "      <td>11.587189</td>\n",
              "      <td>76.019110</td>\n",
              "    </tr>\n",
              "  </tbody>\n",
              "</table>\n",
              "</div>\n",
              "      <button class=\"colab-df-convert\" onclick=\"convertToInteractive('df-43182269-9782-4b29-ad99-d73574ac54c3')\"\n",
              "              title=\"Convert this dataframe to an interactive table.\"\n",
              "              style=\"display:none;\">\n",
              "        \n",
              "  <svg xmlns=\"http://www.w3.org/2000/svg\" height=\"24px\"viewBox=\"0 0 24 24\"\n",
              "       width=\"24px\">\n",
              "    <path d=\"M0 0h24v24H0V0z\" fill=\"none\"/>\n",
              "    <path d=\"M18.56 5.44l.94 2.06.94-2.06 2.06-.94-2.06-.94-.94-2.06-.94 2.06-2.06.94zm-11 1L8.5 8.5l.94-2.06 2.06-.94-2.06-.94L8.5 2.5l-.94 2.06-2.06.94zm10 10l.94 2.06.94-2.06 2.06-.94-2.06-.94-.94-2.06-.94 2.06-2.06.94z\"/><path d=\"M17.41 7.96l-1.37-1.37c-.4-.4-.92-.59-1.43-.59-.52 0-1.04.2-1.43.59L10.3 9.45l-7.72 7.72c-.78.78-.78 2.05 0 2.83L4 21.41c.39.39.9.59 1.41.59.51 0 1.02-.2 1.41-.59l7.78-7.78 2.81-2.81c.8-.78.8-2.07 0-2.86zM5.41 20L4 18.59l7.72-7.72 1.47 1.35L5.41 20z\"/>\n",
              "  </svg>\n",
              "      </button>\n",
              "      \n",
              "  <style>\n",
              "    .colab-df-container {\n",
              "      display:flex;\n",
              "      flex-wrap:wrap;\n",
              "      gap: 12px;\n",
              "    }\n",
              "\n",
              "    .colab-df-convert {\n",
              "      background-color: #E8F0FE;\n",
              "      border: none;\n",
              "      border-radius: 50%;\n",
              "      cursor: pointer;\n",
              "      display: none;\n",
              "      fill: #1967D2;\n",
              "      height: 32px;\n",
              "      padding: 0 0 0 0;\n",
              "      width: 32px;\n",
              "    }\n",
              "\n",
              "    .colab-df-convert:hover {\n",
              "      background-color: #E2EBFA;\n",
              "      box-shadow: 0px 1px 2px rgba(60, 64, 67, 0.3), 0px 1px 3px 1px rgba(60, 64, 67, 0.15);\n",
              "      fill: #174EA6;\n",
              "    }\n",
              "\n",
              "    [theme=dark] .colab-df-convert {\n",
              "      background-color: #3B4455;\n",
              "      fill: #D2E3FC;\n",
              "    }\n",
              "\n",
              "    [theme=dark] .colab-df-convert:hover {\n",
              "      background-color: #434B5C;\n",
              "      box-shadow: 0px 1px 3px 1px rgba(0, 0, 0, 0.15);\n",
              "      filter: drop-shadow(0px 1px 2px rgba(0, 0, 0, 0.3));\n",
              "      fill: #FFFFFF;\n",
              "    }\n",
              "  </style>\n",
              "\n",
              "      <script>\n",
              "        const buttonEl =\n",
              "          document.querySelector('#df-43182269-9782-4b29-ad99-d73574ac54c3 button.colab-df-convert');\n",
              "        buttonEl.style.display =\n",
              "          google.colab.kernel.accessAllowed ? 'block' : 'none';\n",
              "\n",
              "        async function convertToInteractive(key) {\n",
              "          const element = document.querySelector('#df-43182269-9782-4b29-ad99-d73574ac54c3');\n",
              "          const dataTable =\n",
              "            await google.colab.kernel.invokeFunction('convertToInteractive',\n",
              "                                                     [key], {});\n",
              "          if (!dataTable) return;\n",
              "\n",
              "          const docLinkHtml = 'Like what you see? Visit the ' +\n",
              "            '<a target=\"_blank\" href=https://colab.research.google.com/notebooks/data_table.ipynb>data table notebook</a>'\n",
              "            + ' to learn more about interactive tables.';\n",
              "          element.innerHTML = '';\n",
              "          dataTable['output_type'] = 'display_data';\n",
              "          await google.colab.output.renderOutput(dataTable, element);\n",
              "          const docLink = document.createElement('div');\n",
              "          docLink.innerHTML = docLinkHtml;\n",
              "          element.appendChild(docLink);\n",
              "        }\n",
              "      </script>\n",
              "    </div>\n",
              "  </div>\n",
              "  "
            ]
          },
          "metadata": {},
          "execution_count": 86
        }
      ]
    },
    {
      "cell_type": "code",
      "source": [
        "considered_features = [\"State\", \"City\", \"Place\", \"Rating\", \"Short crisp\"]\n",
        "\n",
        "#forming vector\n",
        "combined_vector = data[\"State\"] + \" \"+ data[\"City\"] + \" \" + data[\"Place\"] + \" \"+ str(data[\"Rating\"]) + \" \" + data[\"Short crisp\"]"
      ],
      "metadata": {
        "id": "4Vup8P-rHLd3"
      },
      "execution_count": null,
      "outputs": []
    },
    {
      "cell_type": "markdown",
      "source": [
        "**converting the text data to feature vectors**"
      ],
      "metadata": {
        "id": "un7dbSvhICkP"
      }
    },
    {
      "cell_type": "code",
      "source": [
        "vectorizer = TfidfVectorizer()\n",
        "feature_vectors = vectorizer.fit_transform(combined_vector)"
      ],
      "metadata": {
        "id": "g6W3SDHdIBE_"
      },
      "execution_count": null,
      "outputs": []
    },
    {
      "cell_type": "code",
      "source": [
        "# getting the similarity scores using cosine similarity\n",
        "similarity = cosine_similarity(feature_vectors)\n",
        "print(similarity.shape)"
      ],
      "metadata": {
        "id": "DosX3wKsISWS"
      },
      "execution_count": null,
      "outputs": []
    },
    {
      "cell_type": "markdown",
      "source": [
        "**Function to Recomend Places based on your taste**"
      ],
      "metadata": {
        "id": "JcPVLFy8c-C2"
      }
    },
    {
      "cell_type": "code",
      "source": [
        "place_name = input(' Enter your favourite place name here I will recommend some similar place like that: ')\n",
        "state_name = input(\"Enter your desired state name, if not enter All States : \")\n",
        "limit = int(input(\"Enter the limit of recommendations : \"))\n",
        "\n",
        "def recommend_places(place_name, state_name, limit):\n",
        "  try:\n",
        "    list_of_all_places = data['Place'].tolist()\n",
        "    find_close_match = difflib.get_close_matches(place_name, list_of_all_places)\n",
        "    close_match = find_close_match[0]\n",
        "    index_of_the_place = data[data[\"Place\"] == close_match].index.values[0]\n",
        "    similarity_score = list(enumerate(similarity[index_of_the_place]))\n",
        "    sorted_similar_places = sorted(similarity_score, key = lambda x:x[1], reverse = True) \n",
        "\n",
        "    i = 1\n",
        "    rec_places = []\n",
        "    for place in sorted_similar_places:\n",
        "      index = place[0]\n",
        "      title_from_index = data[data.index==index]['Place'].values[0]\n",
        "      if (i < 100):\n",
        "        rec_places.append(title_from_index)\n",
        "        i+=1\n",
        "\n",
        "    df_new = data[data[\"Place\"] == rec_places[0]]\n",
        "    for i in rec_places[1:]:\n",
        "      df_n = data[data[\"Place\"] == i]\n",
        "      df_new = pd.concat([df_new, df_n], axis = 0, ignore_index = True)\n",
        "\n",
        "    if state_name == \"All States\": \n",
        "      df_return =  df_new.iloc[:limit+1, :5]\n",
        "      if df_return.shape[0] > 0:\n",
        "        return df_return\n",
        "      elif df_return.shape[0] == 0:\n",
        "        return \"No Such Data Found Try Other place !!!\"\n",
        "    elif state_name != \"All States\":\n",
        "      df_return =  df_new[df_new[\"State\"] == state_name].iloc[:limit+1, :5]\n",
        "      if df_return.shape[0] > 0:\n",
        "        return df_return\n",
        "      elif df_return.shape[0] == 0:\n",
        "        return f\"No Such Data Found in {state_name} .Try with All States to find match !!!\" \n",
        "\n",
        "  except IndexError:\n",
        "    return \"No Such Data Found Try Other place !!!\"\n",
        "\n",
        "  #return \"Recommended Places as per your taste : \", rec_places\n",
        "\n",
        "recommend_places(place_name, state_name, limit)"
      ],
      "metadata": {
        "id": "o8ZXQ5N4PDpX"
      },
      "execution_count": null,
      "outputs": []
    },
    {
      "cell_type": "markdown",
      "source": [
        "**The same process is done as a webapp using Streamlit**"
      ],
      "metadata": {
        "id": "h6M4NI1B9Mmt"
      }
    },
    {
      "cell_type": "markdown",
      "source": [
        "# **Recommendation Web app using Streamlit**"
      ],
      "metadata": {
        "id": "Jb9uknlJvYQe"
      }
    },
    {
      "cell_type": "code",
      "execution_count": null,
      "metadata": {
        "id": "HvsG4JAcmNCe"
      },
      "outputs": [],
      "source": [
        "!pip install pyngrok==4.1.1\n",
        "!pip install streamlit -q\n",
        "!pip install pyngrok\n",
        "!pip install streamlit-lottie"
      ]
    },
    {
      "cell_type": "code",
      "source": [
        "!ngrok authtoken 2Op6KxeISOnrpDsw1Evp0nuqsQo_3vNvhKSLokNmWSvRXWbMg\n"
      ],
      "metadata": {
        "colab": {
          "base_uri": "https://localhost:8080/"
        },
        "id": "76QxZ7uomRmG",
        "outputId": "52c2b941-2289-4a43-b235-a575230b095d"
      },
      "execution_count": 2,
      "outputs": [
        {
          "output_type": "stream",
          "name": "stdout",
          "text": [
            "Authtoken saved to configuration file: /root/.ngrok2/ngrok.yml\n"
          ]
        }
      ]
    },
    {
      "cell_type": "code",
      "source": [
        "!wget https://bin.equinox.io/c/4VmDzA7iaHb/ngrok-stable-linux-amd64.zip\n",
        "!unzip -qq ngrok-stable-linux-amd64.zip\n"
      ],
      "metadata": {
        "colab": {
          "base_uri": "https://localhost:8080/"
        },
        "id": "ycGCObE0mayK",
        "outputId": "6e294b16-3308-4212-a8ef-7a9262c0015a"
      },
      "execution_count": 3,
      "outputs": [
        {
          "output_type": "stream",
          "name": "stdout",
          "text": [
            "--2023-04-23 10:28:36--  https://bin.equinox.io/c/4VmDzA7iaHb/ngrok-stable-linux-amd64.zip\n",
            "Resolving bin.equinox.io (bin.equinox.io)... 52.202.168.65, 18.205.222.128, 54.161.241.46, ...\n",
            "Connecting to bin.equinox.io (bin.equinox.io)|52.202.168.65|:443... connected.\n",
            "HTTP request sent, awaiting response... 200 OK\n",
            "Length: 13921656 (13M) [application/octet-stream]\n",
            "Saving to: ‘ngrok-stable-linux-amd64.zip’\n",
            "\n",
            "ngrok-stable-linux- 100%[===================>]  13.28M  3.43MB/s    in 5.0s    \n",
            "\n",
            "2023-04-23 10:28:41 (2.63 MB/s) - ‘ngrok-stable-linux-amd64.zip’ saved [13921656/13921656]\n",
            "\n"
          ]
        }
      ]
    },
    {
      "cell_type": "code",
      "source": [
        "%%writefile function.py\n",
        "#Importing essentials\n",
        "import pandas as pd\n",
        "import numpy as np\n",
        "import matplotlib.pyplot as plt\n",
        "import seaborn as sns\n",
        "import difflib\n",
        "import streamlit as st\n",
        "from streamlit_lottie import st_lottie\n",
        "\n",
        "from sklearn.feature_extraction.text import TfidfVectorizer\n",
        "from sklearn.metrics.pairwise import cosine_similarity\n",
        "\n",
        "#preparing  data\n",
        "data = pd.read_csv(\"https://github.com/TamizharasanG/Travel-and-Tourism-Clarity-TTS/blob/main/Indian_Tourism_custamized.csv?raw=true\")\n",
        "\n",
        "data.dropna(axis = 0, inplace = True)\n",
        "data.drop([\"Unnamed: 0\"], axis = 1, inplace = True)\n",
        "data = data.reset_index(drop=True)\n",
        "\n",
        "#Since some names are with spaces in front of them strip is used\n",
        "data[\"State\"] = data[\"State\"].apply(lambda x : x.strip())\n",
        "data[\"Place\"] = data[\"Place\"].apply(lambda x : x.strip())\n",
        "\n",
        "considered_features = [\"State\", \"City\", \"Place\", \"Rating\", \"Short crisp\"]\n",
        "\n",
        "#forming vector\n",
        "combined_vector = data[\"State\"] + \" \"+ data[\"City\"] + \" \" + data[\"Place\"] + \" \"+ str(data[\"Rating\"]) + \" \" + data[\"Short crisp\"]\n",
        "\n",
        "vectorizer = TfidfVectorizer()\n",
        "feature_vectors = vectorizer.fit_transform(combined_vector)\n",
        "\n",
        "# getting the similarity scores using cosine similarity\n",
        "similarity = cosine_similarity(feature_vectors)\n",
        "\n",
        "def recommend_places(place_name, state_name, limit):\n",
        "  try:\n",
        "    list_of_all_places = data['Place'].tolist()\n",
        "    find_close_match = difflib.get_close_matches(place_name, list_of_all_places)\n",
        "    close_match = find_close_match[0]\n",
        "    index_of_the_place = data[data[\"Place\"] == close_match].index.values[0]\n",
        "    similarity_score = list(enumerate(similarity[index_of_the_place]))\n",
        "    sorted_similar_places = sorted(similarity_score, key = lambda x:x[1], reverse = True) \n",
        "\n",
        "    i = 1\n",
        "    rec_places = []\n",
        "    for place in sorted_similar_places:\n",
        "      index = place[0]\n",
        "      title_from_index = data[data.index==index]['Place'].values[0]\n",
        "      if (i < 100):\n",
        "        rec_places.append(title_from_index)\n",
        "        i+=1\n",
        "\n",
        "    df_new = data[data[\"Place\"] == rec_places[0]]\n",
        "    for i in rec_places[1:]:\n",
        "      df_n = data[data[\"Place\"] == i]\n",
        "      df_new = pd.concat([df_new, df_n], axis = 0, ignore_index = True)\n",
        "\n",
        "    if state_name == \"All States\": \n",
        "      df_return =  df_new.iloc[:limit+1, :5]\n",
        "      if df_return.shape[0] > 0:\n",
        "        return df_return\n",
        "      elif df_return.shape[0] == 0:\n",
        "        return \"Sorry !!! No Such Data Found Try Other place !!!\"\n",
        "    elif state_name != \"All States\":\n",
        "      df_return =  df_new[df_new[\"State\"] == state_name].iloc[:limit+1, :5]\n",
        "      if df_return.shape[0] > 0:\n",
        "        return df_return\n",
        "      elif df_return.shape[0] == 0:\n",
        "        return f\"Sorry !!! No Such Data Found in {state_name} .Try with All States to find match !!!\" \n",
        "\n",
        "  except IndexError:\n",
        "    return \"Sorry !!! No Such Data Found Try Other place !!!\""
      ],
      "metadata": {
        "colab": {
          "base_uri": "https://localhost:8080/"
        },
        "id": "-kS0qQt1uXty",
        "outputId": "0d742633-057c-484d-a4ee-495c3874ce01"
      },
      "execution_count": 52,
      "outputs": [
        {
          "output_type": "stream",
          "name": "stdout",
          "text": [
            "Writing function.py\n"
          ]
        }
      ]
    },
    {
      "cell_type": "code",
      "source": [
        "%%writefile aa.py\n",
        "import pandas as pd\n",
        "import numpy as np\n",
        "import matplotlib.pyplot as plt\n",
        "import seaborn as sns\n",
        "import difflib\n",
        "import streamlit as st\n",
        "from streamlit_lottie import st_lottie\n",
        "from function import recommend_places\n",
        "\n",
        "st.title('Tourist Place Recommender')\n",
        "place_name = st.text_input('Enter you favourite vacation spot here, I will suggest you somme similar places you may like: ')\n",
        "state_list = ['All States-15079','Maharashtra - 1954','Tamil Nadu - 1540','Karnataka - 1294','Kerala - 1150','Rajasthan - 931','Gujarat - 825','Uttar Pradesh - 763','West Bengal - 720','Madhya Pradesh - 580',\n",
        "'Himachal Pradesh - 486','Uttarakhand - 475','Delhi - 430','Andhra Pradesh - 391','Goa - 385','Telangana - 357','Odisha - 352','Punjab - 270','Bihar - 270','Haryana - 229','Jharkhand - 222','Jammu and Kashmir - 208',\n",
        "'Assam - 183','Chhattisgarh - 167','Sikkim - 113','Meghalaya - 113','Ladakh - 108','Arunachal Pradesh - 90','Andaman and Nicobar Islands - 79','Manipur - 70','Dadra and Nagar Haveli and Daman and Diu - 62',\n",
        "'Puducherry - 59','Chandigarh - 47','Tripura - 45','Nagaland - 42','Mizoram - 37','Gulf of Kutch - 23','Lakshadweep - 6']\n",
        "\n",
        "\n",
        "state_name_raw = st.selectbox(\"Select State\", state_list)\n",
        "state_name = state_name_raw.split(\"-\")[0].strip()\n",
        "limit = st.number_input('Pick a number', 1, 50)\n",
        "if st.button(\"Recomend\"):\n",
        "  out = recommend_places(place_name, state_name, limit)\n",
        "  if type(out) == str:\n",
        "    st.info(out)\n",
        "  if type(out) != str:\n",
        "    st.dataframe(out)"
      ],
      "metadata": {
        "colab": {
          "base_uri": "https://localhost:8080/"
        },
        "id": "8NGr8H0Pmi78",
        "outputId": "6db2d96d-1c82-4d24-ccfe-657b19e5acd6"
      },
      "execution_count": 61,
      "outputs": [
        {
          "output_type": "stream",
          "name": "stdout",
          "text": [
            "Overwriting aa.py\n"
          ]
        }
      ]
    },
    {
      "cell_type": "code",
      "source": [
        "get_ipython().system_raw('./ngrok http 8501 &')\n",
        "! curl -s http://localhost:4040/api/tunnels | python3 -c \\\n",
        "    \"import sys, json; print(json.load(sys.stdin)['tunnels'][0]['public_url'])\""
      ],
      "metadata": {
        "colab": {
          "base_uri": "https://localhost:8080/"
        },
        "id": "S8WOYgchmeda",
        "outputId": "1819c958-b1ae-4382-d639-e09a9d8a984a"
      },
      "execution_count": 63,
      "outputs": [
        {
          "output_type": "stream",
          "name": "stdout",
          "text": [
            "https://28f7-34-105-100-144.ngrok-free.app\n"
          ]
        }
      ]
    },
    {
      "cell_type": "code",
      "source": [
        "!streamlit run /content/aa.py"
      ],
      "metadata": {
        "colab": {
          "base_uri": "https://localhost:8080/"
        },
        "id": "b5pIrry6mhU5",
        "outputId": "618152da-2bdd-42e9-ec04-fe4cbff7208c"
      },
      "execution_count": 64,
      "outputs": [
        {
          "output_type": "stream",
          "name": "stdout",
          "text": [
            "\n",
            "Collecting usage statistics. To deactivate, set browser.gatherUsageStats to False.\n",
            "\u001b[0m\n",
            "\u001b[0m\n",
            "\u001b[34m\u001b[1m  You can now view your Streamlit app in your browser.\u001b[0m\n",
            "\u001b[0m\n",
            "\u001b[34m  Network URL: \u001b[0m\u001b[1mhttp://172.28.0.12:8501\u001b[0m\n",
            "\u001b[34m  External URL: \u001b[0m\u001b[1mhttp://34.105.100.144:8501\u001b[0m\n",
            "\u001b[0m\n",
            "\u001b[34m  Stopping...\u001b[0m\n",
            "\u001b[34m  Stopping...\u001b[0m\n"
          ]
        }
      ]
    }
  ]
}