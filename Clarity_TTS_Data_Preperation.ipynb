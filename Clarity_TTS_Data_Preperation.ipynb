{
  "nbformat": 4,
  "nbformat_minor": 0,
  "metadata": {
    "colab": {
      "provenance": [],
      "mount_file_id": "1EOW3YIrR1I7ZiiFVSWVkaoCiOPV_A5Xh",
      "authorship_tag": "ABX9TyPfOG+7odkd3agOyVvldNim",
      "include_colab_link": true
    },
    "kernelspec": {
      "name": "python3",
      "display_name": "Python 3"
    },
    "language_info": {
      "name": "python"
    },
    "accelerator": "GPU",
    "gpuClass": "standard"
  },
  "cells": [
    {
      "cell_type": "markdown",
      "metadata": {
        "id": "view-in-github",
        "colab_type": "text"
      },
      "source": [
        "<a href=\"https://colab.research.google.com/github/TamizharasanG/Travel-and-Tourism-Clarity-TTS/blob/main/Clarity_TTS_Data_Preperation.ipynb\" target=\"_parent\"><img src=\"https://colab.research.google.com/assets/colab-badge.svg\" alt=\"Open In Colab\"/></a>"
      ]
    },
    {
      "cell_type": "code",
      "source": [
        "import pandas as pd\n",
        "import numpy as np\n",
        "import matplotlib.pyplot as plt\n",
        "import seaborn as sns\n",
        "\n",
        "# NLP packages\n",
        "from nltk.corpus import stopwords\n",
        "from nltk.tokenize import word_tokenize\n",
        "from nltk.stem import WordNetLemmatizer\n",
        "import wordcloud\n",
        "from wordcloud import WordCloud, STOPWORDS, ImageColorGenerator\n"
      ],
      "metadata": {
        "id": "0jXljiiq1Ae8"
      },
      "execution_count": 6,
      "outputs": []
    },
    {
      "cell_type": "markdown",
      "source": [
        "***Importing dataset from Kaggle*** - *Indian Tourism data*\n",
        "\n",
        "---\n",
        "\n",
        "Uploadd the jaon file to colab before running the code. The json file is attached in my repo."
      ],
      "metadata": {
        "id": "QtifbYArdIZA"
      }
    },
    {
      "cell_type": "code",
      "source": [
        "! pip install kaggle\n",
        "! mkdir ~/.kaggle\n",
        "! cp kaggle.json ~/.kaggle/\n",
        "! chmod 600 ~/.kaggle/kaggle.json\n",
        "! kaggle datasets download ritvik1909/indian-places-to-visit-reviews-data"
      ],
      "metadata": {
        "colab": {
          "base_uri": "https://localhost:8080/"
        },
        "id": "TiHBUiS8c7oN",
        "outputId": "c247def9-2f66-493f-b511-e1ad4b88caf0"
      },
      "execution_count": 7,
      "outputs": [
        {
          "output_type": "stream",
          "name": "stdout",
          "text": [
            "Looking in indexes: https://pypi.org/simple, https://us-python.pkg.dev/colab-wheels/public/simple/\n",
            "Requirement already satisfied: kaggle in /usr/local/lib/python3.9/dist-packages (1.5.13)\n",
            "Requirement already satisfied: requests in /usr/local/lib/python3.9/dist-packages (from kaggle) (2.27.1)\n",
            "Requirement already satisfied: tqdm in /usr/local/lib/python3.9/dist-packages (from kaggle) (4.65.0)\n",
            "Requirement already satisfied: urllib3 in /usr/local/lib/python3.9/dist-packages (from kaggle) (1.26.15)\n",
            "Requirement already satisfied: python-slugify in /usr/local/lib/python3.9/dist-packages (from kaggle) (8.0.1)\n",
            "Requirement already satisfied: six>=1.10 in /usr/local/lib/python3.9/dist-packages (from kaggle) (1.16.0)\n",
            "Requirement already satisfied: certifi in /usr/local/lib/python3.9/dist-packages (from kaggle) (2022.12.7)\n",
            "Requirement already satisfied: python-dateutil in /usr/local/lib/python3.9/dist-packages (from kaggle) (2.8.2)\n",
            "Requirement already satisfied: text-unidecode>=1.3 in /usr/local/lib/python3.9/dist-packages (from python-slugify->kaggle) (1.3)\n",
            "Requirement already satisfied: idna<4,>=2.5 in /usr/local/lib/python3.9/dist-packages (from requests->kaggle) (3.4)\n",
            "Requirement already satisfied: charset-normalizer~=2.0.0 in /usr/local/lib/python3.9/dist-packages (from requests->kaggle) (2.0.12)\n",
            "mkdir: cannot create directory ‘/root/.kaggle’: File exists\n",
            "indian-places-to-visit-reviews-data.zip: Skipping, found more recently modified local copy (use --force to force download)\n"
          ]
        }
      ]
    },
    {
      "cell_type": "code",
      "source": [
        "data = pd.read_csv(\"/content/indian-places-to-visit-reviews-data.zip\")"
      ],
      "metadata": {
        "id": "k7WLP1upamPT"
      },
      "execution_count": 5,
      "outputs": []
    },
    {
      "cell_type": "code",
      "source": [
        "data.shape"
      ],
      "metadata": {
        "colab": {
          "base_uri": "https://localhost:8080/"
        },
        "id": "dIa0QY2uamSC",
        "outputId": "76b8f465-0716-4bf0-f49d-c94c15fa51b1"
      },
      "execution_count": 8,
      "outputs": [
        {
          "output_type": "execute_result",
          "data": {
            "text/plain": [
              "(1482466, 7)"
            ]
          },
          "metadata": {},
          "execution_count": 8
        }
      ]
    },
    {
      "cell_type": "code",
      "source": [
        "data.head()"
      ],
      "metadata": {
        "colab": {
          "base_uri": "https://localhost:8080/",
          "height": 206
        },
        "id": "mMLRo9AaamVc",
        "outputId": "b43d00f6-cc9c-4009-e315-735f4d57e55f"
      },
      "execution_count": 9,
      "outputs": [
        {
          "output_type": "execute_result",
          "data": {
            "text/plain": [
              "                City            Place  \\\n",
              "0  Aamby Valley City  19 Degree North   \n",
              "1  Aamby Valley City  19 Degree North   \n",
              "2  Aamby Valley City  19 Degree North   \n",
              "3  Aamby Valley City  19 Degree North   \n",
              "4  Aamby Valley City  19 Degree North   \n",
              "\n",
              "                                              Review  Rating       Name  Date  \\\n",
              "0  aamby valley beautiful place clear blue skies ...       5  Anonymous   NaN   \n",
              "1  executed obt akshay thanx team thoroughly enjo...       4  Anonymous   NaN   \n",
              "2  awesome experience atv tracts obstacles mainta...       5  Anonymous   NaN   \n",
              "3  visited aamby valley yesterday short excursion...       4  Anonymous   NaN   \n",
              "4  far mumbai place finest adventure places visit...       5  Anonymous   NaN   \n",
              "\n",
              "                                          Raw_Review  \n",
              "0  Aamby valley is a beautiful place with its cle...  \n",
              "1  Very well executed obt by Akshay.... Thanx as ...  \n",
              "2  Awesome experience at the ATV\\nTracts and obst...  \n",
              "3  we visited the Aamby Valley yesterday for shor...  \n",
              "4  Not far from Mumbai, this place is one of the ...  "
            ],
            "text/html": [
              "\n",
              "  <div id=\"df-d16d3628-a334-45b2-8861-995df15ce766\">\n",
              "    <div class=\"colab-df-container\">\n",
              "      <div>\n",
              "<style scoped>\n",
              "    .dataframe tbody tr th:only-of-type {\n",
              "        vertical-align: middle;\n",
              "    }\n",
              "\n",
              "    .dataframe tbody tr th {\n",
              "        vertical-align: top;\n",
              "    }\n",
              "\n",
              "    .dataframe thead th {\n",
              "        text-align: right;\n",
              "    }\n",
              "</style>\n",
              "<table border=\"1\" class=\"dataframe\">\n",
              "  <thead>\n",
              "    <tr style=\"text-align: right;\">\n",
              "      <th></th>\n",
              "      <th>City</th>\n",
              "      <th>Place</th>\n",
              "      <th>Review</th>\n",
              "      <th>Rating</th>\n",
              "      <th>Name</th>\n",
              "      <th>Date</th>\n",
              "      <th>Raw_Review</th>\n",
              "    </tr>\n",
              "  </thead>\n",
              "  <tbody>\n",
              "    <tr>\n",
              "      <th>0</th>\n",
              "      <td>Aamby Valley City</td>\n",
              "      <td>19 Degree North</td>\n",
              "      <td>aamby valley beautiful place clear blue skies ...</td>\n",
              "      <td>5</td>\n",
              "      <td>Anonymous</td>\n",
              "      <td>NaN</td>\n",
              "      <td>Aamby valley is a beautiful place with its cle...</td>\n",
              "    </tr>\n",
              "    <tr>\n",
              "      <th>1</th>\n",
              "      <td>Aamby Valley City</td>\n",
              "      <td>19 Degree North</td>\n",
              "      <td>executed obt akshay thanx team thoroughly enjo...</td>\n",
              "      <td>4</td>\n",
              "      <td>Anonymous</td>\n",
              "      <td>NaN</td>\n",
              "      <td>Very well executed obt by Akshay.... Thanx as ...</td>\n",
              "    </tr>\n",
              "    <tr>\n",
              "      <th>2</th>\n",
              "      <td>Aamby Valley City</td>\n",
              "      <td>19 Degree North</td>\n",
              "      <td>awesome experience atv tracts obstacles mainta...</td>\n",
              "      <td>5</td>\n",
              "      <td>Anonymous</td>\n",
              "      <td>NaN</td>\n",
              "      <td>Awesome experience at the ATV\\nTracts and obst...</td>\n",
              "    </tr>\n",
              "    <tr>\n",
              "      <th>3</th>\n",
              "      <td>Aamby Valley City</td>\n",
              "      <td>19 Degree North</td>\n",
              "      <td>visited aamby valley yesterday short excursion...</td>\n",
              "      <td>4</td>\n",
              "      <td>Anonymous</td>\n",
              "      <td>NaN</td>\n",
              "      <td>we visited the Aamby Valley yesterday for shor...</td>\n",
              "    </tr>\n",
              "    <tr>\n",
              "      <th>4</th>\n",
              "      <td>Aamby Valley City</td>\n",
              "      <td>19 Degree North</td>\n",
              "      <td>far mumbai place finest adventure places visit...</td>\n",
              "      <td>5</td>\n",
              "      <td>Anonymous</td>\n",
              "      <td>NaN</td>\n",
              "      <td>Not far from Mumbai, this place is one of the ...</td>\n",
              "    </tr>\n",
              "  </tbody>\n",
              "</table>\n",
              "</div>\n",
              "      <button class=\"colab-df-convert\" onclick=\"convertToInteractive('df-d16d3628-a334-45b2-8861-995df15ce766')\"\n",
              "              title=\"Convert this dataframe to an interactive table.\"\n",
              "              style=\"display:none;\">\n",
              "        \n",
              "  <svg xmlns=\"http://www.w3.org/2000/svg\" height=\"24px\"viewBox=\"0 0 24 24\"\n",
              "       width=\"24px\">\n",
              "    <path d=\"M0 0h24v24H0V0z\" fill=\"none\"/>\n",
              "    <path d=\"M18.56 5.44l.94 2.06.94-2.06 2.06-.94-2.06-.94-.94-2.06-.94 2.06-2.06.94zm-11 1L8.5 8.5l.94-2.06 2.06-.94-2.06-.94L8.5 2.5l-.94 2.06-2.06.94zm10 10l.94 2.06.94-2.06 2.06-.94-2.06-.94-.94-2.06-.94 2.06-2.06.94z\"/><path d=\"M17.41 7.96l-1.37-1.37c-.4-.4-.92-.59-1.43-.59-.52 0-1.04.2-1.43.59L10.3 9.45l-7.72 7.72c-.78.78-.78 2.05 0 2.83L4 21.41c.39.39.9.59 1.41.59.51 0 1.02-.2 1.41-.59l7.78-7.78 2.81-2.81c.8-.78.8-2.07 0-2.86zM5.41 20L4 18.59l7.72-7.72 1.47 1.35L5.41 20z\"/>\n",
              "  </svg>\n",
              "      </button>\n",
              "      \n",
              "  <style>\n",
              "    .colab-df-container {\n",
              "      display:flex;\n",
              "      flex-wrap:wrap;\n",
              "      gap: 12px;\n",
              "    }\n",
              "\n",
              "    .colab-df-convert {\n",
              "      background-color: #E8F0FE;\n",
              "      border: none;\n",
              "      border-radius: 50%;\n",
              "      cursor: pointer;\n",
              "      display: none;\n",
              "      fill: #1967D2;\n",
              "      height: 32px;\n",
              "      padding: 0 0 0 0;\n",
              "      width: 32px;\n",
              "    }\n",
              "\n",
              "    .colab-df-convert:hover {\n",
              "      background-color: #E2EBFA;\n",
              "      box-shadow: 0px 1px 2px rgba(60, 64, 67, 0.3), 0px 1px 3px 1px rgba(60, 64, 67, 0.15);\n",
              "      fill: #174EA6;\n",
              "    }\n",
              "\n",
              "    [theme=dark] .colab-df-convert {\n",
              "      background-color: #3B4455;\n",
              "      fill: #D2E3FC;\n",
              "    }\n",
              "\n",
              "    [theme=dark] .colab-df-convert:hover {\n",
              "      background-color: #434B5C;\n",
              "      box-shadow: 0px 1px 3px 1px rgba(0, 0, 0, 0.15);\n",
              "      filter: drop-shadow(0px 1px 2px rgba(0, 0, 0, 0.3));\n",
              "      fill: #FFFFFF;\n",
              "    }\n",
              "  </style>\n",
              "\n",
              "      <script>\n",
              "        const buttonEl =\n",
              "          document.querySelector('#df-d16d3628-a334-45b2-8861-995df15ce766 button.colab-df-convert');\n",
              "        buttonEl.style.display =\n",
              "          google.colab.kernel.accessAllowed ? 'block' : 'none';\n",
              "\n",
              "        async function convertToInteractive(key) {\n",
              "          const element = document.querySelector('#df-d16d3628-a334-45b2-8861-995df15ce766');\n",
              "          const dataTable =\n",
              "            await google.colab.kernel.invokeFunction('convertToInteractive',\n",
              "                                                     [key], {});\n",
              "          if (!dataTable) return;\n",
              "\n",
              "          const docLinkHtml = 'Like what you see? Visit the ' +\n",
              "            '<a target=\"_blank\" href=https://colab.research.google.com/notebooks/data_table.ipynb>data table notebook</a>'\n",
              "            + ' to learn more about interactive tables.';\n",
              "          element.innerHTML = '';\n",
              "          dataTable['output_type'] = 'display_data';\n",
              "          await google.colab.output.renderOutput(dataTable, element);\n",
              "          const docLink = document.createElement('div');\n",
              "          docLink.innerHTML = docLinkHtml;\n",
              "          element.appendChild(docLink);\n",
              "        }\n",
              "      </script>\n",
              "    </div>\n",
              "  </div>\n",
              "  "
            ]
          },
          "metadata": {},
          "execution_count": 9
        }
      ]
    },
    {
      "cell_type": "code",
      "source": [
        "data.info()"
      ],
      "metadata": {
        "colab": {
          "base_uri": "https://localhost:8080/"
        },
        "id": "Ki5s7TG5a2va",
        "outputId": "095c34d7-01f6-42eb-b645-d54d04c6601c"
      },
      "execution_count": 10,
      "outputs": [
        {
          "output_type": "stream",
          "name": "stdout",
          "text": [
            "<class 'pandas.core.frame.DataFrame'>\n",
            "RangeIndex: 1482466 entries, 0 to 1482465\n",
            "Data columns (total 7 columns):\n",
            " #   Column      Non-Null Count    Dtype  \n",
            "---  ------      --------------    -----  \n",
            " 0   City        1482466 non-null  object \n",
            " 1   Place       1482466 non-null  object \n",
            " 2   Review      1482466 non-null  object \n",
            " 3   Rating      1482466 non-null  int64  \n",
            " 4   Name        1482466 non-null  object \n",
            " 5   Date        0 non-null        float64\n",
            " 6   Raw_Review  1482466 non-null  object \n",
            "dtypes: float64(1), int64(1), object(5)\n",
            "memory usage: 79.2+ MB\n"
          ]
        }
      ]
    },
    {
      "cell_type": "code",
      "source": [
        "data.drop([\"Date\", \"Name\"], axis = 1, inplace = True)"
      ],
      "metadata": {
        "id": "eSjCufaLa9td"
      },
      "execution_count": 11,
      "outputs": []
    },
    {
      "cell_type": "code",
      "source": [
        "data_pro_1 = data.groupby([\"City\", \"Place\"]).mean()\n",
        "data_pro_1 = data_pro_1.reset_index()"
      ],
      "metadata": {
        "colab": {
          "base_uri": "https://localhost:8080/"
        },
        "id": "UV7qD6b3bQDX",
        "outputId": "66a89972-9ad8-4192-c903-ddc502a76ef6"
      },
      "execution_count": 12,
      "outputs": [
        {
          "output_type": "stream",
          "name": "stderr",
          "text": [
            "<ipython-input-12-916c3e9871f3>:1: FutureWarning: The default value of numeric_only in DataFrameGroupBy.mean is deprecated. In a future version, numeric_only will default to False. Either specify numeric_only or select only columns which should be valid for the function.\n",
            "  data_pro_1 = data.groupby([\"City\", \"Place\"]).mean()\n"
          ]
        }
      ]
    },
    {
      "cell_type": "code",
      "source": [
        "data_pro_1"
      ],
      "metadata": {
        "colab": {
          "base_uri": "https://localhost:8080/",
          "height": 424
        },
        "id": "SHSHw9kNbVdg",
        "outputId": "ebd87fd2-ee78-4047-c8cf-10fde5f6c3e0"
      },
      "execution_count": 13,
      "outputs": [
        {
          "output_type": "execute_result",
          "data": {
            "text/plain": [
              "                    City                             Place    Rating\n",
              "0      Aamby Valley City                   19 Degree North  4.588235\n",
              "1               Abhaneri           Chand Baori (Step well)  4.248331\n",
              "2               Abhaneri               Harshat Mata Temple  3.915254\n",
              "3           Acharapakkam                      Achirupakkam  2.000000\n",
              "4           Acharapakkam         Mazhai Malai Madha Shrine  5.000000\n",
              "...                  ...                               ...       ...\n",
              "15234               Ziro                       Shiva Linga  3.800000\n",
              "15235               Ziro  Talley Valley Wildlife Sanctuary  3.333333\n",
              "15236               Ziro                   Tarin Fish Farm  4.000000\n",
              "15237              Zuluk                 Thambi View Point  4.142857\n",
              "15238              Zuluk               Zuluk Wildlife Area  4.043478\n",
              "\n",
              "[15239 rows x 3 columns]"
            ],
            "text/html": [
              "\n",
              "  <div id=\"df-bcffceb4-5621-4d19-b3c1-fe04a551a18a\">\n",
              "    <div class=\"colab-df-container\">\n",
              "      <div>\n",
              "<style scoped>\n",
              "    .dataframe tbody tr th:only-of-type {\n",
              "        vertical-align: middle;\n",
              "    }\n",
              "\n",
              "    .dataframe tbody tr th {\n",
              "        vertical-align: top;\n",
              "    }\n",
              "\n",
              "    .dataframe thead th {\n",
              "        text-align: right;\n",
              "    }\n",
              "</style>\n",
              "<table border=\"1\" class=\"dataframe\">\n",
              "  <thead>\n",
              "    <tr style=\"text-align: right;\">\n",
              "      <th></th>\n",
              "      <th>City</th>\n",
              "      <th>Place</th>\n",
              "      <th>Rating</th>\n",
              "    </tr>\n",
              "  </thead>\n",
              "  <tbody>\n",
              "    <tr>\n",
              "      <th>0</th>\n",
              "      <td>Aamby Valley City</td>\n",
              "      <td>19 Degree North</td>\n",
              "      <td>4.588235</td>\n",
              "    </tr>\n",
              "    <tr>\n",
              "      <th>1</th>\n",
              "      <td>Abhaneri</td>\n",
              "      <td>Chand Baori (Step well)</td>\n",
              "      <td>4.248331</td>\n",
              "    </tr>\n",
              "    <tr>\n",
              "      <th>2</th>\n",
              "      <td>Abhaneri</td>\n",
              "      <td>Harshat Mata Temple</td>\n",
              "      <td>3.915254</td>\n",
              "    </tr>\n",
              "    <tr>\n",
              "      <th>3</th>\n",
              "      <td>Acharapakkam</td>\n",
              "      <td>Achirupakkam</td>\n",
              "      <td>2.000000</td>\n",
              "    </tr>\n",
              "    <tr>\n",
              "      <th>4</th>\n",
              "      <td>Acharapakkam</td>\n",
              "      <td>Mazhai Malai Madha Shrine</td>\n",
              "      <td>5.000000</td>\n",
              "    </tr>\n",
              "    <tr>\n",
              "      <th>...</th>\n",
              "      <td>...</td>\n",
              "      <td>...</td>\n",
              "      <td>...</td>\n",
              "    </tr>\n",
              "    <tr>\n",
              "      <th>15234</th>\n",
              "      <td>Ziro</td>\n",
              "      <td>Shiva Linga</td>\n",
              "      <td>3.800000</td>\n",
              "    </tr>\n",
              "    <tr>\n",
              "      <th>15235</th>\n",
              "      <td>Ziro</td>\n",
              "      <td>Talley Valley Wildlife Sanctuary</td>\n",
              "      <td>3.333333</td>\n",
              "    </tr>\n",
              "    <tr>\n",
              "      <th>15236</th>\n",
              "      <td>Ziro</td>\n",
              "      <td>Tarin Fish Farm</td>\n",
              "      <td>4.000000</td>\n",
              "    </tr>\n",
              "    <tr>\n",
              "      <th>15237</th>\n",
              "      <td>Zuluk</td>\n",
              "      <td>Thambi View Point</td>\n",
              "      <td>4.142857</td>\n",
              "    </tr>\n",
              "    <tr>\n",
              "      <th>15238</th>\n",
              "      <td>Zuluk</td>\n",
              "      <td>Zuluk Wildlife Area</td>\n",
              "      <td>4.043478</td>\n",
              "    </tr>\n",
              "  </tbody>\n",
              "</table>\n",
              "<p>15239 rows × 3 columns</p>\n",
              "</div>\n",
              "      <button class=\"colab-df-convert\" onclick=\"convertToInteractive('df-bcffceb4-5621-4d19-b3c1-fe04a551a18a')\"\n",
              "              title=\"Convert this dataframe to an interactive table.\"\n",
              "              style=\"display:none;\">\n",
              "        \n",
              "  <svg xmlns=\"http://www.w3.org/2000/svg\" height=\"24px\"viewBox=\"0 0 24 24\"\n",
              "       width=\"24px\">\n",
              "    <path d=\"M0 0h24v24H0V0z\" fill=\"none\"/>\n",
              "    <path d=\"M18.56 5.44l.94 2.06.94-2.06 2.06-.94-2.06-.94-.94-2.06-.94 2.06-2.06.94zm-11 1L8.5 8.5l.94-2.06 2.06-.94-2.06-.94L8.5 2.5l-.94 2.06-2.06.94zm10 10l.94 2.06.94-2.06 2.06-.94-2.06-.94-.94-2.06-.94 2.06-2.06.94z\"/><path d=\"M17.41 7.96l-1.37-1.37c-.4-.4-.92-.59-1.43-.59-.52 0-1.04.2-1.43.59L10.3 9.45l-7.72 7.72c-.78.78-.78 2.05 0 2.83L4 21.41c.39.39.9.59 1.41.59.51 0 1.02-.2 1.41-.59l7.78-7.78 2.81-2.81c.8-.78.8-2.07 0-2.86zM5.41 20L4 18.59l7.72-7.72 1.47 1.35L5.41 20z\"/>\n",
              "  </svg>\n",
              "      </button>\n",
              "      \n",
              "  <style>\n",
              "    .colab-df-container {\n",
              "      display:flex;\n",
              "      flex-wrap:wrap;\n",
              "      gap: 12px;\n",
              "    }\n",
              "\n",
              "    .colab-df-convert {\n",
              "      background-color: #E8F0FE;\n",
              "      border: none;\n",
              "      border-radius: 50%;\n",
              "      cursor: pointer;\n",
              "      display: none;\n",
              "      fill: #1967D2;\n",
              "      height: 32px;\n",
              "      padding: 0 0 0 0;\n",
              "      width: 32px;\n",
              "    }\n",
              "\n",
              "    .colab-df-convert:hover {\n",
              "      background-color: #E2EBFA;\n",
              "      box-shadow: 0px 1px 2px rgba(60, 64, 67, 0.3), 0px 1px 3px 1px rgba(60, 64, 67, 0.15);\n",
              "      fill: #174EA6;\n",
              "    }\n",
              "\n",
              "    [theme=dark] .colab-df-convert {\n",
              "      background-color: #3B4455;\n",
              "      fill: #D2E3FC;\n",
              "    }\n",
              "\n",
              "    [theme=dark] .colab-df-convert:hover {\n",
              "      background-color: #434B5C;\n",
              "      box-shadow: 0px 1px 3px 1px rgba(0, 0, 0, 0.15);\n",
              "      filter: drop-shadow(0px 1px 2px rgba(0, 0, 0, 0.3));\n",
              "      fill: #FFFFFF;\n",
              "    }\n",
              "  </style>\n",
              "\n",
              "      <script>\n",
              "        const buttonEl =\n",
              "          document.querySelector('#df-bcffceb4-5621-4d19-b3c1-fe04a551a18a button.colab-df-convert');\n",
              "        buttonEl.style.display =\n",
              "          google.colab.kernel.accessAllowed ? 'block' : 'none';\n",
              "\n",
              "        async function convertToInteractive(key) {\n",
              "          const element = document.querySelector('#df-bcffceb4-5621-4d19-b3c1-fe04a551a18a');\n",
              "          const dataTable =\n",
              "            await google.colab.kernel.invokeFunction('convertToInteractive',\n",
              "                                                     [key], {});\n",
              "          if (!dataTable) return;\n",
              "\n",
              "          const docLinkHtml = 'Like what you see? Visit the ' +\n",
              "            '<a target=\"_blank\" href=https://colab.research.google.com/notebooks/data_table.ipynb>data table notebook</a>'\n",
              "            + ' to learn more about interactive tables.';\n",
              "          element.innerHTML = '';\n",
              "          dataTable['output_type'] = 'display_data';\n",
              "          await google.colab.output.renderOutput(dataTable, element);\n",
              "          const docLink = document.createElement('div');\n",
              "          docLink.innerHTML = docLinkHtml;\n",
              "          element.appendChild(docLink);\n",
              "        }\n",
              "      </script>\n",
              "    </div>\n",
              "  </div>\n",
              "  "
            ]
          },
          "metadata": {},
          "execution_count": 13
        }
      ]
    },
    {
      "cell_type": "code",
      "source": [
        "#Stop word removal\n",
        "\n",
        "import nltk\n",
        "nltk.download(\"stopwords\")\n",
        "nltk.download(\"punkt\")\n",
        "nltk.download('wordnet')\n",
        "from nltk.corpus import stopwords"
      ],
      "metadata": {
        "colab": {
          "base_uri": "https://localhost:8080/"
        },
        "id": "BE8EMPzE1Lln",
        "outputId": "96f2ef8d-3d62-44af-c503-6760cdd66766"
      },
      "execution_count": 14,
      "outputs": [
        {
          "output_type": "stream",
          "name": "stderr",
          "text": [
            "[nltk_data] Downloading package stopwords to /root/nltk_data...\n",
            "[nltk_data]   Unzipping corpora/stopwords.zip.\n",
            "[nltk_data] Downloading package punkt to /root/nltk_data...\n",
            "[nltk_data]   Unzipping tokenizers/punkt.zip.\n",
            "[nltk_data] Downloading package wordnet to /root/nltk_data...\n"
          ]
        }
      ]
    },
    {
      "cell_type": "code",
      "source": [
        "review = []\n",
        "\n",
        "for i, j in zip(data_pro_1[\"City\"].values[12362 : ], data_pro_1[\"Place\"].values[12362 : ]):\n",
        "  text = \" \".join(data[(data[\"City\"] == i) & (data[\"Place\"] == j)].iloc[:, -1].values)\n",
        "  #print(text)\n",
        "  # Stop words removal\n",
        "  stop_words = set(stopwords.words('english'))\n",
        "  word_tokens = word_tokenize(text)\n",
        "  filtered_sentence = [w for w in word_tokens if not w.lower() in stop_words]\n",
        "  #Lemmatization of words\n",
        "  lm = WordNetLemmatizer()\n",
        "  lm_sentence = []\n",
        "  for w in word_tokens:\n",
        "    if w not in stop_words:\n",
        "      lm_sentence.append(lm.lemmatize(w))\n",
        "\n",
        "  # Frequency check of words and picking top 50 words for hashtags & wordcloud\n",
        "  wd = WordCloud(max_font_size=100, max_words=50, background_color=\"white\").generate(\" \".join(lm_sentence))\n",
        "  text_dictionary = wd.process_text(text)\n",
        "  sst = {i : j for i, j in sorted(text_dictionary.items(),reverse=True, key=lambda item: item[1]) if len(i) > 1}\n",
        "  key = list(sst.keys())[:50]\n",
        "  review.append(\" \".join(key))"
      ],
      "metadata": {
        "id": "vmyL7OqmTFuT"
      },
      "execution_count": 111,
      "outputs": []
    },
    {
      "cell_type": "code",
      "source": [
        "data_pro_1[\"Short crisp\"] = review\n",
        "data_pro_1[\"Rating\"] = data_pro_1[\"Rating\"].apply(lambda x : round(x, 1))"
      ],
      "metadata": {
        "id": "ypV6ZWbxniGA"
      },
      "execution_count": 114,
      "outputs": []
    },
    {
      "cell_type": "code",
      "source": [
        "data_pro_1"
      ],
      "metadata": {
        "colab": {
          "base_uri": "https://localhost:8080/",
          "height": 424
        },
        "id": "rUaUwVNADH-i",
        "outputId": "420cc330-2f02-49d1-e872-d8dcc06ea65a"
      },
      "execution_count": 119,
      "outputs": [
        {
          "output_type": "execute_result",
          "data": {
            "text/plain": [
              "                    City                             Place  Rating  \\\n",
              "0      Aamby Valley City                   19 Degree North     4.6   \n",
              "1               Abhaneri           Chand Baori (Step well)     4.2   \n",
              "2               Abhaneri               Harshat Mata Temple     3.9   \n",
              "3           Acharapakkam                      Achirupakkam     2.0   \n",
              "4           Acharapakkam         Mazhai Malai Madha Shrine     5.0   \n",
              "...                  ...                               ...     ...   \n",
              "15234               Ziro                       Shiva Linga     3.8   \n",
              "15235               Ziro  Talley Valley Wildlife Sanctuary     3.3   \n",
              "15236               Ziro                   Tarin Fish Farm     4.0   \n",
              "15237              Zuluk                 Thambi View Point     4.1   \n",
              "15238              Zuluk               Zuluk Wildlife Area     4.0   \n",
              "\n",
              "                                             Short crisp  \n",
              "0      place ATV time Aamby Valley experience adventu...  \n",
              "1      Jaipur step well place one Agra visit well ste...  \n",
              "2      temple Chand Baori visit Abhaneri step well Ha...  \n",
              "3      Lord Ganesha starting ritual Hindus common bel...  \n",
              "4      shrine one hill situated Tamil Nadu history pl...  \n",
              "...                                                  ...  \n",
              "15234  place Shiva Ziro linga temple Lord road local ...  \n",
              "15235  Ziro forest Talley bamboo flora Valley sanctua...  \n",
              "15236  fish farm cultivation Ziro Tarin paddy place o...  \n",
              "15237  view Zuluk Thambi point see Silk Route place r...  \n",
              "15238  Zuluk place silk route one visit Sikkim stay E...  \n",
              "\n",
              "[15239 rows x 4 columns]"
            ],
            "text/html": [
              "\n",
              "  <div id=\"df-73ab8a85-175c-464f-aa10-fbdb2eb0ce52\">\n",
              "    <div class=\"colab-df-container\">\n",
              "      <div>\n",
              "<style scoped>\n",
              "    .dataframe tbody tr th:only-of-type {\n",
              "        vertical-align: middle;\n",
              "    }\n",
              "\n",
              "    .dataframe tbody tr th {\n",
              "        vertical-align: top;\n",
              "    }\n",
              "\n",
              "    .dataframe thead th {\n",
              "        text-align: right;\n",
              "    }\n",
              "</style>\n",
              "<table border=\"1\" class=\"dataframe\">\n",
              "  <thead>\n",
              "    <tr style=\"text-align: right;\">\n",
              "      <th></th>\n",
              "      <th>City</th>\n",
              "      <th>Place</th>\n",
              "      <th>Rating</th>\n",
              "      <th>Short crisp</th>\n",
              "    </tr>\n",
              "  </thead>\n",
              "  <tbody>\n",
              "    <tr>\n",
              "      <th>0</th>\n",
              "      <td>Aamby Valley City</td>\n",
              "      <td>19 Degree North</td>\n",
              "      <td>4.6</td>\n",
              "      <td>place ATV time Aamby Valley experience adventu...</td>\n",
              "    </tr>\n",
              "    <tr>\n",
              "      <th>1</th>\n",
              "      <td>Abhaneri</td>\n",
              "      <td>Chand Baori (Step well)</td>\n",
              "      <td>4.2</td>\n",
              "      <td>Jaipur step well place one Agra visit well ste...</td>\n",
              "    </tr>\n",
              "    <tr>\n",
              "      <th>2</th>\n",
              "      <td>Abhaneri</td>\n",
              "      <td>Harshat Mata Temple</td>\n",
              "      <td>3.9</td>\n",
              "      <td>temple Chand Baori visit Abhaneri step well Ha...</td>\n",
              "    </tr>\n",
              "    <tr>\n",
              "      <th>3</th>\n",
              "      <td>Acharapakkam</td>\n",
              "      <td>Achirupakkam</td>\n",
              "      <td>2.0</td>\n",
              "      <td>Lord Ganesha starting ritual Hindus common bel...</td>\n",
              "    </tr>\n",
              "    <tr>\n",
              "      <th>4</th>\n",
              "      <td>Acharapakkam</td>\n",
              "      <td>Mazhai Malai Madha Shrine</td>\n",
              "      <td>5.0</td>\n",
              "      <td>shrine one hill situated Tamil Nadu history pl...</td>\n",
              "    </tr>\n",
              "    <tr>\n",
              "      <th>...</th>\n",
              "      <td>...</td>\n",
              "      <td>...</td>\n",
              "      <td>...</td>\n",
              "      <td>...</td>\n",
              "    </tr>\n",
              "    <tr>\n",
              "      <th>15234</th>\n",
              "      <td>Ziro</td>\n",
              "      <td>Shiva Linga</td>\n",
              "      <td>3.8</td>\n",
              "      <td>place Shiva Ziro linga temple Lord road local ...</td>\n",
              "    </tr>\n",
              "    <tr>\n",
              "      <th>15235</th>\n",
              "      <td>Ziro</td>\n",
              "      <td>Talley Valley Wildlife Sanctuary</td>\n",
              "      <td>3.3</td>\n",
              "      <td>Ziro forest Talley bamboo flora Valley sanctua...</td>\n",
              "    </tr>\n",
              "    <tr>\n",
              "      <th>15236</th>\n",
              "      <td>Ziro</td>\n",
              "      <td>Tarin Fish Farm</td>\n",
              "      <td>4.0</td>\n",
              "      <td>fish farm cultivation Ziro Tarin paddy place o...</td>\n",
              "    </tr>\n",
              "    <tr>\n",
              "      <th>15237</th>\n",
              "      <td>Zuluk</td>\n",
              "      <td>Thambi View Point</td>\n",
              "      <td>4.1</td>\n",
              "      <td>view Zuluk Thambi point see Silk Route place r...</td>\n",
              "    </tr>\n",
              "    <tr>\n",
              "      <th>15238</th>\n",
              "      <td>Zuluk</td>\n",
              "      <td>Zuluk Wildlife Area</td>\n",
              "      <td>4.0</td>\n",
              "      <td>Zuluk place silk route one visit Sikkim stay E...</td>\n",
              "    </tr>\n",
              "  </tbody>\n",
              "</table>\n",
              "<p>15239 rows × 4 columns</p>\n",
              "</div>\n",
              "      <button class=\"colab-df-convert\" onclick=\"convertToInteractive('df-73ab8a85-175c-464f-aa10-fbdb2eb0ce52')\"\n",
              "              title=\"Convert this dataframe to an interactive table.\"\n",
              "              style=\"display:none;\">\n",
              "        \n",
              "  <svg xmlns=\"http://www.w3.org/2000/svg\" height=\"24px\"viewBox=\"0 0 24 24\"\n",
              "       width=\"24px\">\n",
              "    <path d=\"M0 0h24v24H0V0z\" fill=\"none\"/>\n",
              "    <path d=\"M18.56 5.44l.94 2.06.94-2.06 2.06-.94-2.06-.94-.94-2.06-.94 2.06-2.06.94zm-11 1L8.5 8.5l.94-2.06 2.06-.94-2.06-.94L8.5 2.5l-.94 2.06-2.06.94zm10 10l.94 2.06.94-2.06 2.06-.94-2.06-.94-.94-2.06-.94 2.06-2.06.94z\"/><path d=\"M17.41 7.96l-1.37-1.37c-.4-.4-.92-.59-1.43-.59-.52 0-1.04.2-1.43.59L10.3 9.45l-7.72 7.72c-.78.78-.78 2.05 0 2.83L4 21.41c.39.39.9.59 1.41.59.51 0 1.02-.2 1.41-.59l7.78-7.78 2.81-2.81c.8-.78.8-2.07 0-2.86zM5.41 20L4 18.59l7.72-7.72 1.47 1.35L5.41 20z\"/>\n",
              "  </svg>\n",
              "      </button>\n",
              "      \n",
              "  <style>\n",
              "    .colab-df-container {\n",
              "      display:flex;\n",
              "      flex-wrap:wrap;\n",
              "      gap: 12px;\n",
              "    }\n",
              "\n",
              "    .colab-df-convert {\n",
              "      background-color: #E8F0FE;\n",
              "      border: none;\n",
              "      border-radius: 50%;\n",
              "      cursor: pointer;\n",
              "      display: none;\n",
              "      fill: #1967D2;\n",
              "      height: 32px;\n",
              "      padding: 0 0 0 0;\n",
              "      width: 32px;\n",
              "    }\n",
              "\n",
              "    .colab-df-convert:hover {\n",
              "      background-color: #E2EBFA;\n",
              "      box-shadow: 0px 1px 2px rgba(60, 64, 67, 0.3), 0px 1px 3px 1px rgba(60, 64, 67, 0.15);\n",
              "      fill: #174EA6;\n",
              "    }\n",
              "\n",
              "    [theme=dark] .colab-df-convert {\n",
              "      background-color: #3B4455;\n",
              "      fill: #D2E3FC;\n",
              "    }\n",
              "\n",
              "    [theme=dark] .colab-df-convert:hover {\n",
              "      background-color: #434B5C;\n",
              "      box-shadow: 0px 1px 3px 1px rgba(0, 0, 0, 0.15);\n",
              "      filter: drop-shadow(0px 1px 2px rgba(0, 0, 0, 0.3));\n",
              "      fill: #FFFFFF;\n",
              "    }\n",
              "  </style>\n",
              "\n",
              "      <script>\n",
              "        const buttonEl =\n",
              "          document.querySelector('#df-73ab8a85-175c-464f-aa10-fbdb2eb0ce52 button.colab-df-convert');\n",
              "        buttonEl.style.display =\n",
              "          google.colab.kernel.accessAllowed ? 'block' : 'none';\n",
              "\n",
              "        async function convertToInteractive(key) {\n",
              "          const element = document.querySelector('#df-73ab8a85-175c-464f-aa10-fbdb2eb0ce52');\n",
              "          const dataTable =\n",
              "            await google.colab.kernel.invokeFunction('convertToInteractive',\n",
              "                                                     [key], {});\n",
              "          if (!dataTable) return;\n",
              "\n",
              "          const docLinkHtml = 'Like what you see? Visit the ' +\n",
              "            '<a target=\"_blank\" href=https://colab.research.google.com/notebooks/data_table.ipynb>data table notebook</a>'\n",
              "            + ' to learn more about interactive tables.';\n",
              "          element.innerHTML = '';\n",
              "          dataTable['output_type'] = 'display_data';\n",
              "          await google.colab.output.renderOutput(dataTable, element);\n",
              "          const docLink = document.createElement('div');\n",
              "          docLink.innerHTML = docLinkHtml;\n",
              "          element.appendChild(docLink);\n",
              "        }\n",
              "      </script>\n",
              "    </div>\n",
              "  </div>\n",
              "  "
            ]
          },
          "metadata": {},
          "execution_count": 119
        }
      ]
    },
    {
      "cell_type": "code",
      "source": [
        "from numpy import NaN\n",
        "state_name = {}\n",
        "city_lat = {}\n",
        "city_lon = {}\n",
        "import geopy\n",
        "from geopy.geocoders import Nominatim\n",
        "geolocator = Nominatim(user_agent=\"google\", timeout = 2)\n",
        "for i in data_pro_1[\"City\"].unique()[1393 : ]:\n",
        "  try:\n",
        "    country = \"India\"\n",
        "    loc = geolocator.geocode(i + \", \"+ country)\n",
        "    st = loc.raw[\"display_name\"].split(\",\")\n",
        "    if (st[-2].strip()).isdigit():\n",
        "      state_name[i] = st[-3]\n",
        "      city_lat[i] = loc.raw[\"lat\"]\n",
        "      city_lon[i] = loc.raw[\"lon\"]\n",
        "    else:\n",
        "      state_name[i] = st[-2]\n",
        "      city_lat[i] = loc.raw[\"lat\"]\n",
        "      city_lon[i] = loc.raw[\"lon\"]  \n",
        "  except AttributeError:\n",
        "    state_name[i] = NaN\n",
        "    city_lat[i] = NaN\n",
        "    city_lon[i] = NaN"
      ],
      "metadata": {
        "id": "vMGWI1RO16xl"
      },
      "execution_count": 137,
      "outputs": []
    },
    {
      "cell_type": "code",
      "source": [
        "data_pro_1[\"State\"] = data_pro_1[\"City\"].map(state_name)\n",
        "data_pro_1[\"City Latitude\"] = data_pro_1[\"City\"].map(city_lat)\n",
        "data_pro_1[\"City Longitude\"] = data_pro_1[\"City\"].map(city_lon)"
      ],
      "metadata": {
        "id": "fj5NV7L9Ii6X"
      },
      "execution_count": 140,
      "outputs": []
    },
    {
      "cell_type": "code",
      "source": [
        "data_pro_1.to_csv(\"Indian_Tourism_custamized.csv\")"
      ],
      "metadata": {
        "id": "Ph3n21m01u4k"
      },
      "execution_count": 146,
      "outputs": []
    },
    {
      "cell_type": "code",
      "source": [
        "data_pro_1.info()"
      ],
      "metadata": {
        "colab": {
          "base_uri": "https://localhost:8080/"
        },
        "id": "ko2_lasxJhWX",
        "outputId": "d90d6ca1-9b5b-45e0-db75-10c4aa630eaf"
      },
      "execution_count": 148,
      "outputs": [
        {
          "output_type": "stream",
          "name": "stdout",
          "text": [
            "<class 'pandas.core.frame.DataFrame'>\n",
            "RangeIndex: 15239 entries, 0 to 15238\n",
            "Data columns (total 7 columns):\n",
            " #   Column          Non-Null Count  Dtype  \n",
            "---  ------          --------------  -----  \n",
            " 0   City            15239 non-null  object \n",
            " 1   Place           15239 non-null  object \n",
            " 2   Rating          15239 non-null  float64\n",
            " 3   Short crisp     15239 non-null  object \n",
            " 4   State           15079 non-null  object \n",
            " 5   City Latitude   15079 non-null  object \n",
            " 6   City Longitude  15079 non-null  object \n",
            "dtypes: float64(1), object(6)\n",
            "memory usage: 833.5+ KB\n"
          ]
        }
      ]
    },
    {
      "cell_type": "markdown",
      "source": [
        "# **Final processed data is uploaded in my github.**"
      ],
      "metadata": {
        "id": "2yN4NHKUK_GK"
      }
    }
  ]
}